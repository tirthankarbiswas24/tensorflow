{
  "nbformat": 4,
  "nbformat_minor": 0,
  "metadata": {
    "colab": {
      "name": "Untitled0.ipynb",
      "provenance": [],
      "authorship_tag": "ABX9TyM4FwaL1vTjIuHKJdQAQG3w",
      "include_colab_link": true
    },
    "kernelspec": {
      "name": "python3",
      "display_name": "Python 3"
    }
  },
  "cells": [
    {
      "cell_type": "markdown",
      "metadata": {
        "id": "view-in-github",
        "colab_type": "text"
      },
      "source": [
        "<a href=\"https://colab.research.google.com/github/tirthankarbiswas24/tensorflow/blob/master/initial-script.ipynb\" target=\"_parent\"><img src=\"https://colab.research.google.com/assets/colab-badge.svg\" alt=\"Open In Colab\"/></a>"
      ]
    },
    {
      "cell_type": "code",
      "metadata": {
        "id": "qC-SPNO7Th7G",
        "colab_type": "code",
        "colab": {
          "base_uri": "https://localhost:8080/",
          "height": 35
        },
        "outputId": "8340ab5b-434d-417c-c56c-99c2429d3c41"
      },
      "source": [
        "print(\"hello world\")"
      ],
      "execution_count": 3,
      "outputs": [
        {
          "output_type": "stream",
          "text": [
            "hello world\n"
          ],
          "name": "stdout"
        }
      ]
    },
    {
      "cell_type": "markdown",
      "metadata": {
        "id": "QnGbM06VT-OO",
        "colab_type": "text"
      },
      "source": [
        "This is my collab book for tensor flwo training.\n",
        "\n",
        "\n",
        "1.   Demosntrate printing\n",
        "2.   Perform basic mathemaical programs\n",
        "\n"
      ]
    },
    {
      "cell_type": "markdown",
      "metadata": {
        "id": "2nGsD2UnUtBD",
        "colab_type": "text"
      },
      "source": [
        "Perform addition"
      ]
    },
    {
      "cell_type": "code",
      "metadata": {
        "id": "Hy_Q39tmT-4I",
        "colab_type": "code",
        "colab": {}
      },
      "source": [
        "a = 10\n",
        "b = 20\n",
        "y = a+b"
      ],
      "execution_count": 0,
      "outputs": []
    },
    {
      "cell_type": "markdown",
      "metadata": {
        "id": "b314n4E2VIr3",
        "colab_type": "text"
      },
      "source": [
        "print added values"
      ]
    },
    {
      "cell_type": "code",
      "metadata": {
        "id": "VNrpHXGcVN7A",
        "colab_type": "code",
        "colab": {
          "base_uri": "https://localhost:8080/",
          "height": 35
        },
        "outputId": "5dd7dfc2-6199-4043-e2b9-4383f8dd191a"
      },
      "source": [
        "print(y)"
      ],
      "execution_count": 5,
      "outputs": [
        {
          "output_type": "stream",
          "text": [
            "30\n"
          ],
          "name": "stdout"
        }
      ]
    }
  ]
}